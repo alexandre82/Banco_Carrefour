{
  "nbformat": 4,
  "nbformat_minor": 0,
  "metadata": {
    "colab": {
      "name": "Exploração_e_analise_de_dados.ipynb",
      "provenance": [],
      "collapsed_sections": [],
      "mount_file_id": "1mnLaq4XmQHnYjP6jigyed-LmCvUil5bv",
      "authorship_tag": "ABX9TyOla1WBXQ0+LYPAq7WMZFUa",
      "include_colab_link": true
    },
    "kernelspec": {
      "name": "python3",
      "display_name": "Python 3"
    },
    "language_info": {
      "name": "python"
    }
  },
  "cells": [
    {
      "cell_type": "markdown",
      "metadata": {
        "id": "view-in-github",
        "colab_type": "text"
      },
      "source": [
        "<a href=\"https://colab.research.google.com/github/alexandre82/Banco_Carrefour/blob/main/Explora%C3%A7%C3%A3o_e_analise_de_dados.ipynb\" target=\"_parent\"><img src=\"https://colab.research.google.com/assets/colab-badge.svg\" alt=\"Open In Colab\"/></a>"
      ]
    },
    {
      "cell_type": "markdown",
      "metadata": {
        "id": "RrfkuP_GY7Av"
      },
      "source": [
        "Neste projeto escolhi usar um arquivo em excel com mais de 30 mil linhas. Fiz a análise, criei e extraí os seguintes dados:\n",
        "\n",
        "\n",
        "1.   Alterei o nome das colunas;\n",
        "2.   Excluí linha vazias;\n",
        "3.   Alterei o tipo da coluna Salario Anual para FLOAT64\n",
        "4.   Calculei o salário mensal;\n",
        "5.   Alterei as casas decimais para duas;\n",
        "6.   Filtrei os 5 maiores salários e plotei grafico de barras;\n",
        "7.   Filtrei os 5 menores salários e plotei grafico de barras;\n",
        "8.   Custo por Departamento;\n",
        "9.   Grafico de barras horizontal com os departamentos com maior nº de pessoas;\n",
        "10.  Total pago para cada DPTO por ano.\n"
      ]
    },
    {
      "cell_type": "code",
      "metadata": {
        "id": "_N6AFhsQY3MT"
      },
      "source": [
        "# Importando as bibliotecas\n",
        "import pandas as pd\n",
        "import matplotlib.pyplot as plt"
      ],
      "execution_count": 118,
      "outputs": []
    },
    {
      "cell_type": "code",
      "metadata": {
        "id": "PyLjGbATgF7-"
      },
      "source": [
        "plt.style.use('ggplot')"
      ],
      "execution_count": 119,
      "outputs": []
    },
    {
      "cell_type": "code",
      "metadata": {
        "id": "QOGQ5j9-ZQBa"
      },
      "source": [
        "df = pd.read_excel('/salarios_.xlsx')"
      ],
      "execution_count": 120,
      "outputs": []
    },
    {
      "cell_type": "code",
      "metadata": {
        "colab": {
          "base_uri": "https://localhost:8080/",
          "height": 665
        },
        "id": "kVPoucb1Zc6s",
        "outputId": "8139b047-8a2f-46ce-ea6d-021117503555"
      },
      "source": [
        "df.head(20)"
      ],
      "execution_count": 121,
      "outputs": [
        {
          "output_type": "execute_result",
          "data": {
            "text/html": [
              "<div>\n",
              "<style scoped>\n",
              "    .dataframe tbody tr th:only-of-type {\n",
              "        vertical-align: middle;\n",
              "    }\n",
              "\n",
              "    .dataframe tbody tr th {\n",
              "        vertical-align: top;\n",
              "    }\n",
              "\n",
              "    .dataframe thead th {\n",
              "        text-align: right;\n",
              "    }\n",
              "</style>\n",
              "<table border=\"1\" class=\"dataframe\">\n",
              "  <thead>\n",
              "    <tr style=\"text-align: right;\">\n",
              "      <th></th>\n",
              "      <th>Name</th>\n",
              "      <th>Department</th>\n",
              "      <th>Employee Annual Salary</th>\n",
              "      <th>Column1</th>\n",
              "    </tr>\n",
              "  </thead>\n",
              "  <tbody>\n",
              "    <tr>\n",
              "      <th>0</th>\n",
              "      <td>ELVIA J</td>\n",
              "      <td>WATER RATE TAKER</td>\n",
              "      <td>WATER MGMNT</td>\n",
              "      <td>8896700.00</td>\n",
              "    </tr>\n",
              "    <tr>\n",
              "      <th>1</th>\n",
              "      <td>JEFFERY M</td>\n",
              "      <td>POLICE OFFICER</td>\n",
              "      <td>POLICE</td>\n",
              "      <td>8077800.00</td>\n",
              "    </tr>\n",
              "    <tr>\n",
              "      <th>2</th>\n",
              "      <td>KARINA</td>\n",
              "      <td>POLICE OFFICER</td>\n",
              "      <td>POLICE</td>\n",
              "      <td>8077800.00</td>\n",
              "    </tr>\n",
              "    <tr>\n",
              "      <th>3</th>\n",
              "      <td>KIMBERLEI R</td>\n",
              "      <td>CHIEF CONTRACT EXPEDITER</td>\n",
              "      <td>GENERAL SERVICES</td>\n",
              "      <td>8478000.00</td>\n",
              "    </tr>\n",
              "    <tr>\n",
              "      <th>4</th>\n",
              "      <td>VICENTE M</td>\n",
              "      <td>CIVIL ENGINEER IV</td>\n",
              "      <td>WATER MGMNT</td>\n",
              "      <td>10473600.00</td>\n",
              "    </tr>\n",
              "    <tr>\n",
              "      <th>5</th>\n",
              "      <td>ANABEL</td>\n",
              "      <td>ASST TO THE ALDERMAN</td>\n",
              "      <td>CITY COUNCIL</td>\n",
              "      <td>7076400.00</td>\n",
              "    </tr>\n",
              "    <tr>\n",
              "      <th>6</th>\n",
              "      <td>EMMANUEL</td>\n",
              "      <td>GENERAL LABORER - DSS</td>\n",
              "      <td>STREETS &amp; SAN</td>\n",
              "      <td>4056000.00</td>\n",
              "    </tr>\n",
              "    <tr>\n",
              "      <th>7</th>\n",
              "      <td>ROBERT J</td>\n",
              "      <td>ELECTRICAL MECHANIC</td>\n",
              "      <td>AVIATION</td>\n",
              "      <td>9152000.00</td>\n",
              "    </tr>\n",
              "    <tr>\n",
              "      <th>8</th>\n",
              "      <td>JAMES J</td>\n",
              "      <td>FIRE ENGINEER</td>\n",
              "      <td>FIRE</td>\n",
              "      <td>9045600.00</td>\n",
              "    </tr>\n",
              "    <tr>\n",
              "      <th>9</th>\n",
              "      <td>TERRY M</td>\n",
              "      <td>POLICE OFFICER</td>\n",
              "      <td>POLICE</td>\n",
              "      <td>8652000.00</td>\n",
              "    </tr>\n",
              "    <tr>\n",
              "      <th>10</th>\n",
              "      <td>BETTY L</td>\n",
              "      <td>FOSTER GRANDPARENT</td>\n",
              "      <td>FAMILY &amp; SUPPORT</td>\n",
              "      <td>275600.00</td>\n",
              "    </tr>\n",
              "    <tr>\n",
              "      <th>11</th>\n",
              "      <td>LYNISE M</td>\n",
              "      <td>CLERK III</td>\n",
              "      <td>POLICE</td>\n",
              "      <td>4392000.00</td>\n",
              "    </tr>\n",
              "    <tr>\n",
              "      <th>12</th>\n",
              "      <td>WILLIAM J</td>\n",
              "      <td>INVESTIGATOR - IPRA II</td>\n",
              "      <td>IPRA</td>\n",
              "      <td>7246800.00</td>\n",
              "    </tr>\n",
              "    <tr>\n",
              "      <th>13</th>\n",
              "      <td>ZAID</td>\n",
              "      <td>POLICE OFFICER</td>\n",
              "      <td>POLICE</td>\n",
              "      <td>6968400.00</td>\n",
              "    </tr>\n",
              "    <tr>\n",
              "      <th>14</th>\n",
              "      <td>ABDALMAHD</td>\n",
              "      <td>POLICE OFFICER</td>\n",
              "      <td>POLICE</td>\n",
              "      <td>8077800.00</td>\n",
              "    </tr>\n",
              "    <tr>\n",
              "      <th>15</th>\n",
              "      <td>AREF R</td>\n",
              "      <td>FIREFIGHTER (PER ARBITRATORS AWARD)-PARAMEDIC</td>\n",
              "      <td>FIRE</td>\n",
              "      <td>9824400.00</td>\n",
              "    </tr>\n",
              "    <tr>\n",
              "      <th>16</th>\n",
              "      <td>AZIZ</td>\n",
              "      <td>POLICE OFFICER</td>\n",
              "      <td>POLICE</td>\n",
              "      <td>8077800.00</td>\n",
              "    </tr>\n",
              "    <tr>\n",
              "      <th>17</th>\n",
              "      <td>ALI</td>\n",
              "      <td>FIREFIGHTER/PARAMEDIC</td>\n",
              "      <td>FIRE</td>\n",
              "      <td>8772000.00</td>\n",
              "    </tr>\n",
              "    <tr>\n",
              "      <th>18</th>\n",
              "      <td>MUHAMMAD A</td>\n",
              "      <td>ENGINEERING TECHNICIAN VI</td>\n",
              "      <td>WATER MGMNT</td>\n",
              "      <td>10610400.00</td>\n",
              "    </tr>\n",
              "    <tr>\n",
              "      <th>19</th>\n",
              "      <td>DANIEL N</td>\n",
              "      <td>FIREFIGHTER-EMT</td>\n",
              "      <td>FIRE</td>\n",
              "      <td>9176400.00</td>\n",
              "    </tr>\n",
              "  </tbody>\n",
              "</table>\n",
              "</div>"
            ],
            "text/plain": [
              "             Name  ...     Column1\n",
              "0         ELVIA J  ...  8896700.00\n",
              "1       JEFFERY M  ...  8077800.00\n",
              "2          KARINA  ...  8077800.00\n",
              "3     KIMBERLEI R  ...  8478000.00\n",
              "4       VICENTE M  ... 10473600.00\n",
              "5          ANABEL  ...  7076400.00\n",
              "6        EMMANUEL  ...  4056000.00\n",
              "7        ROBERT J  ...  9152000.00\n",
              "8         JAMES J  ...  9045600.00\n",
              "9         TERRY M  ...  8652000.00\n",
              "10        BETTY L  ...   275600.00\n",
              "11       LYNISE M  ...  4392000.00\n",
              "12      WILLIAM J  ...  7246800.00\n",
              "13           ZAID  ...  6968400.00\n",
              "14      ABDALMAHD  ...  8077800.00\n",
              "15         AREF R  ...  9824400.00\n",
              "16           AZIZ  ...  8077800.00\n",
              "17            ALI  ...  8772000.00\n",
              "18     MUHAMMAD A  ... 10610400.00\n",
              "19       DANIEL N  ...  9176400.00\n",
              "\n",
              "[20 rows x 4 columns]"
            ]
          },
          "metadata": {},
          "execution_count": 121
        }
      ]
    },
    {
      "cell_type": "markdown",
      "metadata": {
        "id": "NSfUiOAqb6hG"
      },
      "source": [
        "**TOTAL DE LINHAS E COLUNAS NO DF:**"
      ]
    },
    {
      "cell_type": "code",
      "metadata": {
        "colab": {
          "base_uri": "https://localhost:8080/"
        },
        "id": "cDweyw6_bmOC",
        "outputId": "5452e642-cd14-477d-d3f1-4fb7e895d3b5"
      },
      "source": [
        "df.shape"
      ],
      "execution_count": 122,
      "outputs": [
        {
          "output_type": "execute_result",
          "data": {
            "text/plain": [
              "(32182, 4)"
            ]
          },
          "metadata": {},
          "execution_count": 122
        }
      ]
    },
    {
      "cell_type": "markdown",
      "metadata": {
        "id": "EPFH0Atpf7pq"
      },
      "source": [
        "**Alterando o nome das colunas:**"
      ]
    },
    {
      "cell_type": "code",
      "metadata": {
        "id": "KxG8h6cYZ0K4"
      },
      "source": [
        "df = df.rename(columns={'Name':'Nome' , 'Department':'Cargo' , 'Employee Annual Salary':'Departamento' , 'Column1':'Salario Anual'})"
      ],
      "execution_count": 123,
      "outputs": []
    },
    {
      "cell_type": "code",
      "metadata": {
        "colab": {
          "base_uri": "https://localhost:8080/",
          "height": 357
        },
        "id": "vPjsYj4EbIlf",
        "outputId": "d4e9cfde-5b41-4172-f20a-05b617eacbc6"
      },
      "source": [
        "df.head(10) #Verificando se foram alteradas"
      ],
      "execution_count": 124,
      "outputs": [
        {
          "output_type": "execute_result",
          "data": {
            "text/html": [
              "<div>\n",
              "<style scoped>\n",
              "    .dataframe tbody tr th:only-of-type {\n",
              "        vertical-align: middle;\n",
              "    }\n",
              "\n",
              "    .dataframe tbody tr th {\n",
              "        vertical-align: top;\n",
              "    }\n",
              "\n",
              "    .dataframe thead th {\n",
              "        text-align: right;\n",
              "    }\n",
              "</style>\n",
              "<table border=\"1\" class=\"dataframe\">\n",
              "  <thead>\n",
              "    <tr style=\"text-align: right;\">\n",
              "      <th></th>\n",
              "      <th>Nome</th>\n",
              "      <th>Cargo</th>\n",
              "      <th>Departamento</th>\n",
              "      <th>Salario Anual</th>\n",
              "    </tr>\n",
              "  </thead>\n",
              "  <tbody>\n",
              "    <tr>\n",
              "      <th>0</th>\n",
              "      <td>ELVIA J</td>\n",
              "      <td>WATER RATE TAKER</td>\n",
              "      <td>WATER MGMNT</td>\n",
              "      <td>8896700.00</td>\n",
              "    </tr>\n",
              "    <tr>\n",
              "      <th>1</th>\n",
              "      <td>JEFFERY M</td>\n",
              "      <td>POLICE OFFICER</td>\n",
              "      <td>POLICE</td>\n",
              "      <td>8077800.00</td>\n",
              "    </tr>\n",
              "    <tr>\n",
              "      <th>2</th>\n",
              "      <td>KARINA</td>\n",
              "      <td>POLICE OFFICER</td>\n",
              "      <td>POLICE</td>\n",
              "      <td>8077800.00</td>\n",
              "    </tr>\n",
              "    <tr>\n",
              "      <th>3</th>\n",
              "      <td>KIMBERLEI R</td>\n",
              "      <td>CHIEF CONTRACT EXPEDITER</td>\n",
              "      <td>GENERAL SERVICES</td>\n",
              "      <td>8478000.00</td>\n",
              "    </tr>\n",
              "    <tr>\n",
              "      <th>4</th>\n",
              "      <td>VICENTE M</td>\n",
              "      <td>CIVIL ENGINEER IV</td>\n",
              "      <td>WATER MGMNT</td>\n",
              "      <td>10473600.00</td>\n",
              "    </tr>\n",
              "    <tr>\n",
              "      <th>5</th>\n",
              "      <td>ANABEL</td>\n",
              "      <td>ASST TO THE ALDERMAN</td>\n",
              "      <td>CITY COUNCIL</td>\n",
              "      <td>7076400.00</td>\n",
              "    </tr>\n",
              "    <tr>\n",
              "      <th>6</th>\n",
              "      <td>EMMANUEL</td>\n",
              "      <td>GENERAL LABORER - DSS</td>\n",
              "      <td>STREETS &amp; SAN</td>\n",
              "      <td>4056000.00</td>\n",
              "    </tr>\n",
              "    <tr>\n",
              "      <th>7</th>\n",
              "      <td>ROBERT J</td>\n",
              "      <td>ELECTRICAL MECHANIC</td>\n",
              "      <td>AVIATION</td>\n",
              "      <td>9152000.00</td>\n",
              "    </tr>\n",
              "    <tr>\n",
              "      <th>8</th>\n",
              "      <td>JAMES J</td>\n",
              "      <td>FIRE ENGINEER</td>\n",
              "      <td>FIRE</td>\n",
              "      <td>9045600.00</td>\n",
              "    </tr>\n",
              "    <tr>\n",
              "      <th>9</th>\n",
              "      <td>TERRY M</td>\n",
              "      <td>POLICE OFFICER</td>\n",
              "      <td>POLICE</td>\n",
              "      <td>8652000.00</td>\n",
              "    </tr>\n",
              "  </tbody>\n",
              "</table>\n",
              "</div>"
            ],
            "text/plain": [
              "            Nome                     Cargo      Departamento  Salario Anual\n",
              "0        ELVIA J          WATER RATE TAKER       WATER MGMNT     8896700.00\n",
              "1      JEFFERY M            POLICE OFFICER            POLICE     8077800.00\n",
              "2         KARINA            POLICE OFFICER            POLICE     8077800.00\n",
              "3    KIMBERLEI R  CHIEF CONTRACT EXPEDITER  GENERAL SERVICES     8478000.00\n",
              "4      VICENTE M         CIVIL ENGINEER IV       WATER MGMNT    10473600.00\n",
              "5         ANABEL      ASST TO THE ALDERMAN      CITY COUNCIL     7076400.00\n",
              "6       EMMANUEL     GENERAL LABORER - DSS     STREETS & SAN     4056000.00\n",
              "7       ROBERT J       ELECTRICAL MECHANIC          AVIATION     9152000.00\n",
              "8        JAMES J             FIRE ENGINEER              FIRE     9045600.00\n",
              "9        TERRY M            POLICE OFFICER            POLICE     8652000.00"
            ]
          },
          "metadata": {},
          "execution_count": 124
        }
      ]
    },
    {
      "cell_type": "markdown",
      "metadata": {
        "id": "74NDM2PJaSG5"
      },
      "source": [
        "**Calculando o sálário mensal de cada pessoa**"
      ]
    },
    {
      "cell_type": "code",
      "metadata": {
        "id": "R22Cn06aYJKh"
      },
      "source": [
        "df['Salario Mensal'] = df['Salario Anual'] /12"
      ],
      "execution_count": 125,
      "outputs": []
    },
    {
      "cell_type": "code",
      "metadata": {
        "colab": {
          "base_uri": "https://localhost:8080/",
          "height": 203
        },
        "id": "Fxfj0_ebaKjK",
        "outputId": "604c615d-b008-43d4-d28b-abf7c6e392f8"
      },
      "source": [
        "df.head() #verificando se a coluna SALARIO MENSAL foi criada"
      ],
      "execution_count": 126,
      "outputs": [
        {
          "output_type": "execute_result",
          "data": {
            "text/html": [
              "<div>\n",
              "<style scoped>\n",
              "    .dataframe tbody tr th:only-of-type {\n",
              "        vertical-align: middle;\n",
              "    }\n",
              "\n",
              "    .dataframe tbody tr th {\n",
              "        vertical-align: top;\n",
              "    }\n",
              "\n",
              "    .dataframe thead th {\n",
              "        text-align: right;\n",
              "    }\n",
              "</style>\n",
              "<table border=\"1\" class=\"dataframe\">\n",
              "  <thead>\n",
              "    <tr style=\"text-align: right;\">\n",
              "      <th></th>\n",
              "      <th>Nome</th>\n",
              "      <th>Cargo</th>\n",
              "      <th>Departamento</th>\n",
              "      <th>Salario Anual</th>\n",
              "      <th>Salario Mensal</th>\n",
              "    </tr>\n",
              "  </thead>\n",
              "  <tbody>\n",
              "    <tr>\n",
              "      <th>0</th>\n",
              "      <td>ELVIA J</td>\n",
              "      <td>WATER RATE TAKER</td>\n",
              "      <td>WATER MGMNT</td>\n",
              "      <td>8896700.00</td>\n",
              "      <td>741391.67</td>\n",
              "    </tr>\n",
              "    <tr>\n",
              "      <th>1</th>\n",
              "      <td>JEFFERY M</td>\n",
              "      <td>POLICE OFFICER</td>\n",
              "      <td>POLICE</td>\n",
              "      <td>8077800.00</td>\n",
              "      <td>673150.00</td>\n",
              "    </tr>\n",
              "    <tr>\n",
              "      <th>2</th>\n",
              "      <td>KARINA</td>\n",
              "      <td>POLICE OFFICER</td>\n",
              "      <td>POLICE</td>\n",
              "      <td>8077800.00</td>\n",
              "      <td>673150.00</td>\n",
              "    </tr>\n",
              "    <tr>\n",
              "      <th>3</th>\n",
              "      <td>KIMBERLEI R</td>\n",
              "      <td>CHIEF CONTRACT EXPEDITER</td>\n",
              "      <td>GENERAL SERVICES</td>\n",
              "      <td>8478000.00</td>\n",
              "      <td>706500.00</td>\n",
              "    </tr>\n",
              "    <tr>\n",
              "      <th>4</th>\n",
              "      <td>VICENTE M</td>\n",
              "      <td>CIVIL ENGINEER IV</td>\n",
              "      <td>WATER MGMNT</td>\n",
              "      <td>10473600.00</td>\n",
              "      <td>872800.00</td>\n",
              "    </tr>\n",
              "  </tbody>\n",
              "</table>\n",
              "</div>"
            ],
            "text/plain": [
              "            Nome                     Cargo  ... Salario Anual  Salario Mensal\n",
              "0        ELVIA J          WATER RATE TAKER  ...    8896700.00       741391.67\n",
              "1      JEFFERY M            POLICE OFFICER  ...    8077800.00       673150.00\n",
              "2         KARINA            POLICE OFFICER  ...    8077800.00       673150.00\n",
              "3    KIMBERLEI R  CHIEF CONTRACT EXPEDITER  ...    8478000.00       706500.00\n",
              "4      VICENTE M         CIVIL ENGINEER IV  ...   10473600.00       872800.00\n",
              "\n",
              "[5 rows x 5 columns]"
            ]
          },
          "metadata": {},
          "execution_count": 126
        }
      ]
    },
    {
      "cell_type": "code",
      "metadata": {
        "id": "q0_PUQUqlxkG"
      },
      "source": [
        "pd.set_option('float_format' , '{:.2f}'.format) #arredondando as casas decimais"
      ],
      "execution_count": 127,
      "outputs": []
    },
    {
      "cell_type": "code",
      "metadata": {
        "colab": {
          "base_uri": "https://localhost:8080/",
          "height": 203
        },
        "id": "GffnMe4rmEKi",
        "outputId": "00eb4fe0-87c0-4484-a4f6-4aa66b0610c3"
      },
      "source": [
        "df.head() #verificação do arredondamento"
      ],
      "execution_count": 128,
      "outputs": [
        {
          "output_type": "execute_result",
          "data": {
            "text/html": [
              "<div>\n",
              "<style scoped>\n",
              "    .dataframe tbody tr th:only-of-type {\n",
              "        vertical-align: middle;\n",
              "    }\n",
              "\n",
              "    .dataframe tbody tr th {\n",
              "        vertical-align: top;\n",
              "    }\n",
              "\n",
              "    .dataframe thead th {\n",
              "        text-align: right;\n",
              "    }\n",
              "</style>\n",
              "<table border=\"1\" class=\"dataframe\">\n",
              "  <thead>\n",
              "    <tr style=\"text-align: right;\">\n",
              "      <th></th>\n",
              "      <th>Nome</th>\n",
              "      <th>Cargo</th>\n",
              "      <th>Departamento</th>\n",
              "      <th>Salario Anual</th>\n",
              "      <th>Salario Mensal</th>\n",
              "    </tr>\n",
              "  </thead>\n",
              "  <tbody>\n",
              "    <tr>\n",
              "      <th>0</th>\n",
              "      <td>ELVIA J</td>\n",
              "      <td>WATER RATE TAKER</td>\n",
              "      <td>WATER MGMNT</td>\n",
              "      <td>8896700.00</td>\n",
              "      <td>741391.67</td>\n",
              "    </tr>\n",
              "    <tr>\n",
              "      <th>1</th>\n",
              "      <td>JEFFERY M</td>\n",
              "      <td>POLICE OFFICER</td>\n",
              "      <td>POLICE</td>\n",
              "      <td>8077800.00</td>\n",
              "      <td>673150.00</td>\n",
              "    </tr>\n",
              "    <tr>\n",
              "      <th>2</th>\n",
              "      <td>KARINA</td>\n",
              "      <td>POLICE OFFICER</td>\n",
              "      <td>POLICE</td>\n",
              "      <td>8077800.00</td>\n",
              "      <td>673150.00</td>\n",
              "    </tr>\n",
              "    <tr>\n",
              "      <th>3</th>\n",
              "      <td>KIMBERLEI R</td>\n",
              "      <td>CHIEF CONTRACT EXPEDITER</td>\n",
              "      <td>GENERAL SERVICES</td>\n",
              "      <td>8478000.00</td>\n",
              "      <td>706500.00</td>\n",
              "    </tr>\n",
              "    <tr>\n",
              "      <th>4</th>\n",
              "      <td>VICENTE M</td>\n",
              "      <td>CIVIL ENGINEER IV</td>\n",
              "      <td>WATER MGMNT</td>\n",
              "      <td>10473600.00</td>\n",
              "      <td>872800.00</td>\n",
              "    </tr>\n",
              "  </tbody>\n",
              "</table>\n",
              "</div>"
            ],
            "text/plain": [
              "            Nome                     Cargo  ... Salario Anual  Salario Mensal\n",
              "0        ELVIA J          WATER RATE TAKER  ...    8896700.00       741391.67\n",
              "1      JEFFERY M            POLICE OFFICER  ...    8077800.00       673150.00\n",
              "2         KARINA            POLICE OFFICER  ...    8077800.00       673150.00\n",
              "3    KIMBERLEI R  CHIEF CONTRACT EXPEDITER  ...    8478000.00       706500.00\n",
              "4      VICENTE M         CIVIL ENGINEER IV  ...   10473600.00       872800.00\n",
              "\n",
              "[5 rows x 5 columns]"
            ]
          },
          "metadata": {},
          "execution_count": 128
        }
      ]
    },
    {
      "cell_type": "markdown",
      "metadata": {
        "id": "yw7mYHgYbrWb"
      },
      "source": [
        "**-OS CINCO MAIORES SALÁRIOS-** "
      ]
    },
    {
      "cell_type": "code",
      "metadata": {
        "colab": {
          "base_uri": "https://localhost:8080/",
          "height": 203
        },
        "id": "0WmLS-sY4APc",
        "outputId": "a0b23817-f856-4e22-d58a-83fb64933b5c"
      },
      "source": [
        "df.sort_values('Salario Mensal' , ascending=False).head()"
      ],
      "execution_count": 129,
      "outputs": [
        {
          "output_type": "execute_result",
          "data": {
            "text/html": [
              "<div>\n",
              "<style scoped>\n",
              "    .dataframe tbody tr th:only-of-type {\n",
              "        vertical-align: middle;\n",
              "    }\n",
              "\n",
              "    .dataframe tbody tr th {\n",
              "        vertical-align: top;\n",
              "    }\n",
              "\n",
              "    .dataframe thead th {\n",
              "        text-align: right;\n",
              "    }\n",
              "</style>\n",
              "<table border=\"1\" class=\"dataframe\">\n",
              "  <thead>\n",
              "    <tr style=\"text-align: right;\">\n",
              "      <th></th>\n",
              "      <th>Nome</th>\n",
              "      <th>Cargo</th>\n",
              "      <th>Departamento</th>\n",
              "      <th>Salario Anual</th>\n",
              "      <th>Salario Mensal</th>\n",
              "    </tr>\n",
              "  </thead>\n",
              "  <tbody>\n",
              "    <tr>\n",
              "      <th>18039</th>\n",
              "      <td>GARRY F</td>\n",
              "      <td>SUPERINTENDENT OF POLICE</td>\n",
              "      <td>POLICE</td>\n",
              "      <td>26000400.00</td>\n",
              "      <td>2166700.00</td>\n",
              "    </tr>\n",
              "    <tr>\n",
              "      <th>7980</th>\n",
              "      <td>RAHM</td>\n",
              "      <td>MAYOR</td>\n",
              "      <td>MAYOR'S OFFICE</td>\n",
              "      <td>21621000.00</td>\n",
              "      <td>1801750.00</td>\n",
              "    </tr>\n",
              "    <tr>\n",
              "      <th>25622</th>\n",
              "      <td>JOSE A</td>\n",
              "      <td>FIRE COMMISSIONER</td>\n",
              "      <td>FIRE</td>\n",
              "      <td>20272800.00</td>\n",
              "      <td>1689400.00</td>\n",
              "    </tr>\n",
              "    <tr>\n",
              "      <th>31711</th>\n",
              "      <td>ALFONZA</td>\n",
              "      <td>FIRST DEPUTY SUPERINTENDENT</td>\n",
              "      <td>POLICE</td>\n",
              "      <td>19773600.00</td>\n",
              "      <td>1647800.00</td>\n",
              "    </tr>\n",
              "    <tr>\n",
              "      <th>27669</th>\n",
              "      <td>CHARLES</td>\n",
              "      <td>FIRST DEPUTY FIRE COMMISSIONER</td>\n",
              "      <td>FIRE</td>\n",
              "      <td>19773600.00</td>\n",
              "      <td>1647800.00</td>\n",
              "    </tr>\n",
              "  </tbody>\n",
              "</table>\n",
              "</div>"
            ],
            "text/plain": [
              "            Nome                           Cargo  ... Salario Anual  Salario Mensal\n",
              "18039    GARRY F        SUPERINTENDENT OF POLICE  ...   26000400.00      2166700.00\n",
              "7980        RAHM                           MAYOR  ...   21621000.00      1801750.00\n",
              "25622     JOSE A               FIRE COMMISSIONER  ...   20272800.00      1689400.00\n",
              "31711    ALFONZA     FIRST DEPUTY SUPERINTENDENT  ...   19773600.00      1647800.00\n",
              "27669    CHARLES  FIRST DEPUTY FIRE COMMISSIONER  ...   19773600.00      1647800.00\n",
              "\n",
              "[5 rows x 5 columns]"
            ]
          },
          "metadata": {},
          "execution_count": 129
        }
      ]
    },
    {
      "cell_type": "code",
      "metadata": {
        "colab": {
          "base_uri": "https://localhost:8080/",
          "height": 443
        },
        "id": "s0e2FRFhCCoE",
        "outputId": "1f8c6fc5-b2f9-497b-bfa4-2a8d5a120866"
      },
      "source": [
        "df.sort_values('Salario Mensal' , ascending=False).head().plot.bar(x = 'Nome', y = 'Salario Mensal', color = \"Blue\", title = 'Os 5 Maiores Salários', figsize = (12,6))\n",
        "plt.xticks(rotation = 45);\n"
      ],
      "execution_count": 147,
      "outputs": [
        {
          "output_type": "display_data",
          "data": {
            "image/png": "[encoded data removed]",
            "text/plain": [
              "<Figure size 864x432 with 1 Axes>"
            ]
          },
          "metadata": {}
        }
      ]
    },
    {
      "cell_type": "code",
      "metadata": {
        "colab": {
          "base_uri": "https://localhost:8080/",
          "height": 203
        },
        "id": "A2PGblYCD0cF",
        "outputId": "56bacf6d-280e-4dde-c929-fb015f346241"
      },
      "source": [
        "df.sort_values('Salario Mensal' , ascending=True).head()"
      ],
      "execution_count": 131,
      "outputs": [
        {
          "output_type": "execute_result",
          "data": {
            "text/html": [
              "<div>\n",
              "<style scoped>\n",
              "    .dataframe tbody tr th:only-of-type {\n",
              "        vertical-align: middle;\n",
              "    }\n",
              "\n",
              "    .dataframe tbody tr th {\n",
              "        vertical-align: top;\n",
              "    }\n",
              "\n",
              "    .dataframe thead th {\n",
              "        text-align: right;\n",
              "    }\n",
              "</style>\n",
              "<table border=\"1\" class=\"dataframe\">\n",
              "  <thead>\n",
              "    <tr style=\"text-align: right;\">\n",
              "      <th></th>\n",
              "      <th>Nome</th>\n",
              "      <th>Cargo</th>\n",
              "      <th>Departamento</th>\n",
              "      <th>Salario Anual</th>\n",
              "      <th>Salario Mensal</th>\n",
              "    </tr>\n",
              "  </thead>\n",
              "  <tbody>\n",
              "    <tr>\n",
              "      <th>15111</th>\n",
              "      <td>STEVEN</td>\n",
              "      <td>ADMINISTRATIVE SECRETARY</td>\n",
              "      <td>MAYOR'S OFFICE</td>\n",
              "      <td>96.00</td>\n",
              "      <td>8.00</td>\n",
              "    </tr>\n",
              "    <tr>\n",
              "      <th>23939</th>\n",
              "      <td>CLARA M</td>\n",
              "      <td>FOSTER GRANDPARENT</td>\n",
              "      <td>FAMILY &amp; SUPPORT</td>\n",
              "      <td>275600.00</td>\n",
              "      <td>22966.67</td>\n",
              "    </tr>\n",
              "    <tr>\n",
              "      <th>10879</th>\n",
              "      <td>VENIAMIN</td>\n",
              "      <td>SENIOR COMPANION</td>\n",
              "      <td>FAMILY &amp; SUPPORT</td>\n",
              "      <td>275600.00</td>\n",
              "      <td>22966.67</td>\n",
              "    </tr>\n",
              "    <tr>\n",
              "      <th>22640</th>\n",
              "      <td>BEVERLY J</td>\n",
              "      <td>SENIOR COMPANION</td>\n",
              "      <td>FAMILY &amp; SUPPORT</td>\n",
              "      <td>275600.00</td>\n",
              "      <td>22966.67</td>\n",
              "    </tr>\n",
              "    <tr>\n",
              "      <th>31694</th>\n",
              "      <td>JIN H</td>\n",
              "      <td>SENIOR COMPANION</td>\n",
              "      <td>FAMILY &amp; SUPPORT</td>\n",
              "      <td>275600.00</td>\n",
              "      <td>22966.67</td>\n",
              "    </tr>\n",
              "  </tbody>\n",
              "</table>\n",
              "</div>"
            ],
            "text/plain": [
              "              Nome                     Cargo  ... Salario Anual  Salario Mensal\n",
              "15111       STEVEN  ADMINISTRATIVE SECRETARY  ...         96.00            8.00\n",
              "23939      CLARA M        FOSTER GRANDPARENT  ...     275600.00        22966.67\n",
              "10879     VENIAMIN          SENIOR COMPANION  ...     275600.00        22966.67\n",
              "22640    BEVERLY J          SENIOR COMPANION  ...     275600.00        22966.67\n",
              "31694        JIN H          SENIOR COMPANION  ...     275600.00        22966.67\n",
              "\n",
              "[5 rows x 5 columns]"
            ]
          },
          "metadata": {},
          "execution_count": 131
        }
      ]
    },
    {
      "cell_type": "markdown",
      "metadata": {
        "id": "E9aU90Ibb1YJ"
      },
      "source": [
        "**-OS CINCO MENORES SALÁRIOS-**"
      ]
    },
    {
      "cell_type": "code",
      "metadata": {
        "colab": {
          "base_uri": "https://localhost:8080/",
          "height": 444
        },
        "id": "EFz_h91mN5L6",
        "outputId": "b6a8c15c-8528-456f-9234-ce025b5c4ee1"
      },
      "source": [
        "df.sort_values('Salario Mensal' , ascending=True).head().plot.bar(x = 'Nome', y = 'Salario Mensal', color = \"Orange\", title = 'Os 5 Menores Salários', figsize = (12,6))\n",
        "plt.xticks(rotation = 45);"
      ],
      "execution_count": 148,
      "outputs": [
        {
          "output_type": "display_data",
          "data": {
            "image/png": "[encoded data removed]",
            "text/plain": [
              "<Figure size 864x432 with 1 Axes>"
            ]
          },
          "metadata": {}
        }
      ]
    },
    {
      "cell_type": "markdown",
      "metadata": {
        "id": "U7cqH96qctRP"
      },
      "source": [
        "**Custo por Departamento**"
      ]
    },
    {
      "cell_type": "code",
      "metadata": {
        "colab": {
          "base_uri": "https://localhost:8080/"
        },
        "id": "fO9K2G9HcOt6",
        "outputId": "86bf0fc4-a44b-4f03-daec-6a9ed196d7b5"
      },
      "source": [
        "df.groupby('Departamento')['Salario Anual'].sum()"
      ],
      "execution_count": 133,
      "outputs": [
        {
          "output_type": "execute_result",
          "data": {
            "text/plain": [
              "Departamento\n",
              "ADMIN HEARNG               289845600.00\n",
              "ANIMAL CONTRL              369936960.00\n",
              "AVIATION                  9646750284.00\n",
              "BOARD OF ELECTION          625215600.00\n",
              "BOARD OF ETHICS             75085200.00\n",
              "BUDGET & MGMT              377694000.00\n",
              "BUILDINGS                 2412702216.00\n",
              "BUSINESS AFFAIRS          1288927200.00\n",
              "CITY CLERK                 543904500.00\n",
              "CITY COUNCIL              2236789200.00\n",
              "COMMUNITY DEVELOPMENT     1775414960.00\n",
              "CULTURAL AFFAIRS           609134800.00\n",
              "DISABILITIES               210966000.00\n",
              "DoIT                      1013646000.00\n",
              "FAMILY & SUPPORT          2695155280.00\n",
              "FINANCE                   3908589680.00\n",
              "FIRE                     45797161368.00\n",
              "GENERAL SERVICES          7548648844.00\n",
              "HEALTH                    4471999220.00\n",
              "HUMAN RELATIONS            151335600.00\n",
              "HUMAN RESOURCES            488911200.00\n",
              "INSPECTOR GEN              441626400.00\n",
              "IPRA                       735800400.00\n",
              "LAW                       3098915940.00\n",
              "LICENSE APPL COMM            6988800.00\n",
              "MAYOR'S OFFICE             812051696.00\n",
              "OEMC                      6337995404.00\n",
              "POLICE                  110665738080.00\n",
              "POLICE BOARD                15813600.00\n",
              "PROCUREMENT                630388800.00\n",
              "PUBLIC LIBRARY            5266313000.00\n",
              "STREETS & SAN            14682119100.00\n",
              "TRANSPORTN                9834439752.00\n",
              "TREASURER                  191951700.00\n",
              "WATER MGMNT              15511058740.00\n",
              "Name: Salario Anual, dtype: float64"
            ]
          },
          "metadata": {},
          "execution_count": 133
        }
      ]
    },
    {
      "cell_type": "markdown",
      "metadata": {
        "id": "57xRx2GptDDA"
      },
      "source": [
        "**Quantidade de pessoas por Departamento**"
      ]
    },
    {
      "cell_type": "code",
      "metadata": {
        "colab": {
          "base_uri": "https://localhost:8080/",
          "height": 735
        },
        "id": "2tZBDB1Fc2Fm",
        "outputId": "b4fe9e90-fc73-47b5-e180-c9b3f6e5ec97"
      },
      "source": [
        "df['Departamento'].value_counts(ascending=True).plot.barh(x = 'Nome' , y='Departamento' , color='Blue', title='Quantidade de pessoas por Dpto.', figsize=(16,12))\n",
        ";"
      ],
      "execution_count": 149,
      "outputs": [
        {
          "output_type": "execute_result",
          "data": {
            "application/vnd.google.colaboratory.intrinsic+json": {
              "type": "string"
            },
            "text/plain": [
              "''"
            ]
          },
          "metadata": {},
          "execution_count": 149
        },
        {
          "output_type": "display_data",
          "data": {
            "image/png": "[encoded data removed]",
            "text/plain": [
              "<Figure size 1152x864 with 1 Axes>"
            ]
          },
          "metadata": {}
        }
      ]
    },
    {
      "cell_type": "markdown",
      "metadata": {
        "id": "XUAV8pO9lXIY"
      },
      "source": [
        "**Verificando os tipos de cada coluna:**"
      ]
    },
    {
      "cell_type": "code",
      "metadata": {
        "colab": {
          "base_uri": "https://localhost:8080/"
        },
        "id": "jyJVTGyncXKN",
        "outputId": "574a0e21-346e-40fb-ecf9-47b002128348"
      },
      "source": [
        "df.dtypes"
      ],
      "execution_count": 136,
      "outputs": [
        {
          "output_type": "execute_result",
          "data": {
            "text/plain": [
              "Nome               object\n",
              "Cargo              object\n",
              "Departamento       object\n",
              "Salario Anual     float64\n",
              "Salario Mensal    float64\n",
              "dtype: object"
            ]
          },
          "metadata": {},
          "execution_count": 136
        }
      ]
    },
    {
      "cell_type": "code",
      "metadata": {
        "colab": {
          "base_uri": "https://localhost:8080/"
        },
        "id": "5qEUk3gJKFOi",
        "outputId": "37d633c1-2bfc-4060-c01b-f9528e6ef03c"
      },
      "source": [
        "df.isnull().sum()"
      ],
      "execution_count": 137,
      "outputs": [
        {
          "output_type": "execute_result",
          "data": {
            "text/plain": [
              "Nome              1\n",
              "Cargo             1\n",
              "Departamento      1\n",
              "Salario Anual     1\n",
              "Salario Mensal    1\n",
              "dtype: int64"
            ]
          },
          "metadata": {},
          "execution_count": 137
        }
      ]
    },
    {
      "cell_type": "code",
      "metadata": {
        "id": "D9UjYU4HMYQT"
      },
      "source": [
        "df.dropna(how='all', inplace=True)"
      ],
      "execution_count": 138,
      "outputs": []
    },
    {
      "cell_type": "markdown",
      "metadata": {
        "id": "HZ8i0IZhdF9i"
      },
      "source": [
        "**Filtro somente para a coluna DEPARTAMENTO:**"
      ]
    },
    {
      "cell_type": "code",
      "metadata": {
        "colab": {
          "base_uri": "https://localhost:8080/"
        },
        "id": "ckEBXhYuc9Nh",
        "outputId": "e0506e86-e3ed-4d5e-beca-2a97a872a669"
      },
      "source": [
        "df['Departamento'].unique()"
      ],
      "execution_count": 139,
      "outputs": [
        {
          "output_type": "execute_result",
          "data": {
            "text/plain": [
              "array(['WATER MGMNT', 'POLICE', 'GENERAL SERVICES', 'CITY COUNCIL',\n",
              "       'STREETS & SAN', 'AVIATION', 'FIRE', 'FAMILY & SUPPORT', 'IPRA',\n",
              "       'PUBLIC LIBRARY', 'DoIT', 'BUSINESS AFFAIRS', 'OEMC', 'TRANSPORTN',\n",
              "       'HEALTH', \"MAYOR'S OFFICE\", 'LAW', 'FINANCE', 'CULTURAL AFFAIRS',\n",
              "       'COMMUNITY DEVELOPMENT', 'BUILDINGS', 'ANIMAL CONTRL',\n",
              "       'CITY CLERK', 'BOARD OF ELECTION', 'INSPECTOR GEN', 'TREASURER',\n",
              "       'DISABILITIES', 'HUMAN RESOURCES', 'PROCUREMENT',\n",
              "       'HUMAN RELATIONS', 'BOARD OF ETHICS', 'POLICE BOARD',\n",
              "       'BUDGET & MGMT', 'ADMIN HEARNG', 'LICENSE APPL COMM'], dtype=object)"
            ]
          },
          "metadata": {},
          "execution_count": 139
        }
      ]
    },
    {
      "cell_type": "markdown",
      "metadata": {
        "id": "kJz8AiJ3jW7x"
      },
      "source": [
        "**Valor total pago para cada DEPARTAMENTO:**"
      ]
    },
    {
      "cell_type": "code",
      "metadata": {
        "colab": {
          "base_uri": "https://localhost:8080/"
        },
        "id": "3KDyzvipflR7",
        "outputId": "ffa48085-8fbe-4fe0-94b2-9672e26bec43"
      },
      "source": [
        "df.groupby('Departamento')['Salario Anual'].sum()"
      ],
      "execution_count": 140,
      "outputs": [
        {
          "output_type": "execute_result",
          "data": {
            "text/plain": [
              "Departamento\n",
              "ADMIN HEARNG               289845600.00\n",
              "ANIMAL CONTRL              369936960.00\n",
              "AVIATION                  9646750284.00\n",
              "BOARD OF ELECTION          625215600.00\n",
              "BOARD OF ETHICS             75085200.00\n",
              "BUDGET & MGMT              377694000.00\n",
              "BUILDINGS                 2412702216.00\n",
              "BUSINESS AFFAIRS          1288927200.00\n",
              "CITY CLERK                 543904500.00\n",
              "CITY COUNCIL              2236789200.00\n",
              "COMMUNITY DEVELOPMENT     1775414960.00\n",
              "CULTURAL AFFAIRS           609134800.00\n",
              "DISABILITIES               210966000.00\n",
              "DoIT                      1013646000.00\n",
              "FAMILY & SUPPORT          2695155280.00\n",
              "FINANCE                   3908589680.00\n",
              "FIRE                     45797161368.00\n",
              "GENERAL SERVICES          7548648844.00\n",
              "HEALTH                    4471999220.00\n",
              "HUMAN RELATIONS            151335600.00\n",
              "HUMAN RESOURCES            488911200.00\n",
              "INSPECTOR GEN              441626400.00\n",
              "IPRA                       735800400.00\n",
              "LAW                       3098915940.00\n",
              "LICENSE APPL COMM            6988800.00\n",
              "MAYOR'S OFFICE             812051696.00\n",
              "OEMC                      6337995404.00\n",
              "POLICE                  110665738080.00\n",
              "POLICE BOARD                15813600.00\n",
              "PROCUREMENT                630388800.00\n",
              "PUBLIC LIBRARY            5266313000.00\n",
              "STREETS & SAN            14682119100.00\n",
              "TRANSPORTN                9834439752.00\n",
              "TREASURER                  191951700.00\n",
              "WATER MGMNT              15511058740.00\n",
              "Name: Salario Anual, dtype: float64"
            ]
          },
          "metadata": {},
          "execution_count": 140
        }
      ]
    }
  ]
}